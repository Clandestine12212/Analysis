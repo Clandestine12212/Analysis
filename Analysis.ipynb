{
 "cells": [
  {
   "cell_type": "code",
   "execution_count": 1,
   "metadata": {
    "id": "D1QGE8W8DxoA"
   },
   "outputs": [],
   "source": [
    "import pandas as pd\n",
    "import numpy as np\n",
    "from sklearn.model_selection import train_test_split"
   ]
  },
  {
   "cell_type": "code",
   "execution_count": 3,
   "metadata": {
    "id": "ieLBf7eBHUC7"
   },
   "outputs": [],
   "source": [
    "from catboost import CatBoostClassifier"
   ]
  },
  {
   "cell_type": "code",
   "execution_count": 5,
   "metadata": {
    "id": "IGcYyBYTEaBU"
   },
   "outputs": [],
   "source": [
    "DF=pd.read_csv(\"data_interview_test.csv\",delimiter=\":\")"
   ]
  },
  {
   "cell_type": "code",
   "execution_count": 6,
   "metadata": {
    "id": "AKlEEZ3lErcs"
   },
   "outputs": [],
   "source": [
    "DF[\"Matched\"]=np.where(DF.matched_transaction_id==DF.feature_transaction_id,0,1)"
   ]
  },
  {
   "cell_type": "code",
   "execution_count": 7,
   "metadata": {
    "id": "_UDX-2M67qqk"
   },
   "outputs": [],
   "source": [
    "DF[\"feature_transaction_id\"]=DF[\"feature_transaction_id\"].str.replace(',', '').astype(\"int64\")"
   ]
  },
  {
   "cell_type": "code",
   "execution_count": 8,
   "metadata": {
    "id": "hDpxK6aF5lci"
   },
   "outputs": [],
   "source": [
    "DF[\"receipt_id\"]=DF[\"receipt_id\"].str.replace(',', '').astype(\"int64\")\n"
   ]
  },
  {
   "cell_type": "code",
   "execution_count": 9,
   "metadata": {
    "id": "aKXgFrAiCGkd"
   },
   "outputs": [],
   "source": [
    "DF[\"matched_transaction_id\"]=DF[\"matched_transaction_id\"].str.replace(',', '').astype(\"int64\")"
   ]
  },
  {
   "cell_type": "code",
   "execution_count": 10,
   "metadata": {
    "colab": {
     "base_uri": "https://localhost:8080/"
    },
    "id": "LUdVASJyChDF",
    "outputId": "fa2e9ef4-16ce-4a99-9fb1-1a8cef315ad0"
   },
   "outputs": [
    {
     "data": {
      "text/plain": [
       "receipt_id                   int64\n",
       "company_id                   int64\n",
       "matched_transaction_id       int64\n",
       "feature_transaction_id       int64\n",
       "DateMappingMatch           float64\n",
       "AmountMappingMatch         float64\n",
       "DescriptionMatch           float64\n",
       "DifferentPredictedTime     float64\n",
       "TimeMappingMatch           float64\n",
       "PredictedNameMatch         float64\n",
       "ShortNameMatch             float64\n",
       "DifferentPredictedDate     float64\n",
       "PredictedAmountMatch       float64\n",
       "PredictedTimeCloseMatch    float64\n",
       "Matched                      int64\n",
       "dtype: object"
      ]
     },
     "execution_count": 10,
     "metadata": {},
     "output_type": "execute_result"
    }
   ],
   "source": [
    "DF.dtypes"
   ]
  },
  {
   "cell_type": "code",
   "execution_count": 13,
   "metadata": {
    "id": "Q7xuk6UwmCsg"
   },
   "outputs": [],
   "source": [
    "X=DF.iloc[:,0:-1]\n",
    "y=DF.iloc[:,-1]"
   ]
  },
  {
   "cell_type": "code",
   "execution_count": 13,
   "metadata": {
    "id": "NquNOOv2JvxX"
   },
   "outputs": [],
   "source": []
  },
  {
   "cell_type": "code",
   "execution_count": 14,
   "metadata": {
    "id": "Xl4Gz-dPIXSB"
   },
   "outputs": [],
   "source": [
    "X_train, X_test, y_train, y_test = train_test_split(X, y, test_size=0.33, random_state=42)"
   ]
  },
  {
   "cell_type": "code",
   "execution_count": 11,
   "metadata": {
    "colab": {
     "base_uri": "https://localhost:8080/"
    },
    "id": "GpDd3Hqz1lBu",
    "outputId": "ff80d3c9-8f8f-4613-ab4f-f0b122c4ea78"
   },
   "outputs": [
    {
     "name": "stderr",
     "output_type": "stream",
     "text": [
      "/usr/local/lib/python3.7/dist-packages/sklearn/externals/six.py:31: FutureWarning: The module is deprecated in version 0.21 and will be removed in version 0.23 since we've dropped support for Python 2.7. Please rely on the official version of six (https://pypi.org/project/six/).\n",
      "  \"(https://pypi.org/project/six/).\", FutureWarning)\n",
      "/usr/local/lib/python3.7/dist-packages/sklearn/utils/deprecation.py:144: FutureWarning: The sklearn.neighbors.base module is  deprecated in version 0.22 and will be removed in version 0.24. The corresponding classes / functions should instead be imported from sklearn.neighbors. Anything that cannot be imported from sklearn.neighbors is now part of the private API.\n",
      "  warnings.warn(message, FutureWarning)\n"
     ]
    }
   ],
   "source": [
    "from imblearn.over_sampling import SMOTE"
   ]
  },
  {
   "cell_type": "code",
   "execution_count": 15,
   "metadata": {
    "colab": {
     "base_uri": "https://localhost:8080/"
    },
    "id": "r4EtubBKcJKi",
    "outputId": "cf7f6202-9b06-48f9-e1fe-a16887e2e888"
   },
   "outputs": [
    {
     "name": "stderr",
     "output_type": "stream",
     "text": [
      "/usr/local/lib/python3.7/dist-packages/sklearn/utils/deprecation.py:87: FutureWarning: Function safe_indexing is deprecated; safe_indexing is deprecated in version 0.22 and will be removed in version 0.24.\n",
      "  warnings.warn(msg, category=FutureWarning)\n"
     ]
    }
   ],
   "source": [
    "sm = SMOTE(random_state = 2)\n",
    "X_train_res, y_train_res = sm.fit_resample(X_train, y_train.ravel())"
   ]
  },
  {
   "cell_type": "code",
   "execution_count": 17,
   "metadata": {
    "id": "B7mx7lIilSyB"
   },
   "outputs": [],
   "source": [
    "# Affirming class imbalance"
   ]
  },
  {
   "cell_type": "code",
   "execution_count": 16,
   "metadata": {
    "colab": {
     "base_uri": "https://localhost:8080/"
    },
    "id": "N2p9-9SJlcpF",
    "outputId": "a3fde331-1d95-42d7-8316-0e13cc3d8677"
   },
   "outputs": [
    {
     "data": {
      "text/plain": [
       "1    11177\n",
       "0      857\n",
       "Name: Matched, dtype: int64"
      ]
     },
     "execution_count": 16,
     "metadata": {},
     "output_type": "execute_result"
    }
   ],
   "source": [
    "DF.Matched.value_counts()"
   ]
  },
  {
   "cell_type": "code",
   "execution_count": 72,
   "metadata": {
    "colab": {
     "base_uri": "https://localhost:8080/",
     "height": 434
    },
    "id": "Wb_DiGsCEthN",
    "outputId": "3ba52df2-4089-404a-fcb0-f929faed1af7"
   },
   "outputs": [
    {
     "data": {
      "text/html": [
       "<div>\n",
       "<style scoped>\n",
       "    .dataframe tbody tr th:only-of-type {\n",
       "        vertical-align: middle;\n",
       "    }\n",
       "\n",
       "    .dataframe tbody tr th {\n",
       "        vertical-align: top;\n",
       "    }\n",
       "\n",
       "    .dataframe thead th {\n",
       "        text-align: right;\n",
       "    }\n",
       "</style>\n",
       "<table border=\"1\" class=\"dataframe\">\n",
       "  <thead>\n",
       "    <tr style=\"text-align: right;\">\n",
       "      <th></th>\n",
       "      <th>receipt_id</th>\n",
       "      <th>company_id</th>\n",
       "      <th>matched_transaction_id</th>\n",
       "      <th>feature_transaction_id</th>\n",
       "      <th>DateMappingMatch</th>\n",
       "      <th>AmountMappingMatch</th>\n",
       "      <th>DescriptionMatch</th>\n",
       "      <th>DifferentPredictedTime</th>\n",
       "      <th>TimeMappingMatch</th>\n",
       "      <th>PredictedNameMatch</th>\n",
       "      <th>ShortNameMatch</th>\n",
       "      <th>DifferentPredictedDate</th>\n",
       "      <th>PredictedAmountMatch</th>\n",
       "      <th>PredictedTimeCloseMatch</th>\n",
       "      <th>Matched</th>\n",
       "    </tr>\n",
       "  </thead>\n",
       "  <tbody>\n",
       "    <tr>\n",
       "      <th>25</th>\n",
       "      <td>10001</td>\n",
       "      <td>10000</td>\n",
       "      <td>10605</td>\n",
       "      <td>10605</td>\n",
       "      <td>0.90</td>\n",
       "      <td>0.0</td>\n",
       "      <td>0.0</td>\n",
       "      <td>1.0</td>\n",
       "      <td>0.0</td>\n",
       "      <td>0.0</td>\n",
       "      <td>0.0</td>\n",
       "      <td>0.0</td>\n",
       "      <td>0.0</td>\n",
       "      <td>0.0</td>\n",
       "      <td>0</td>\n",
       "    </tr>\n",
       "    <tr>\n",
       "      <th>27</th>\n",
       "      <td>10002</td>\n",
       "      <td>10000</td>\n",
       "      <td>10286</td>\n",
       "      <td>10286</td>\n",
       "      <td>0.95</td>\n",
       "      <td>0.0</td>\n",
       "      <td>0.0</td>\n",
       "      <td>1.0</td>\n",
       "      <td>0.0</td>\n",
       "      <td>0.8</td>\n",
       "      <td>0.0</td>\n",
       "      <td>0.0</td>\n",
       "      <td>0.0</td>\n",
       "      <td>0.0</td>\n",
       "      <td>0</td>\n",
       "    </tr>\n",
       "    <tr>\n",
       "      <th>38</th>\n",
       "      <td>10003</td>\n",
       "      <td>10000</td>\n",
       "      <td>10412</td>\n",
       "      <td>10412</td>\n",
       "      <td>0.85</td>\n",
       "      <td>0.0</td>\n",
       "      <td>0.0</td>\n",
       "      <td>1.0</td>\n",
       "      <td>0.0</td>\n",
       "      <td>0.0</td>\n",
       "      <td>1.0</td>\n",
       "      <td>0.0</td>\n",
       "      <td>0.0</td>\n",
       "      <td>0.0</td>\n",
       "      <td>0</td>\n",
       "    </tr>\n",
       "    <tr>\n",
       "      <th>73</th>\n",
       "      <td>10005</td>\n",
       "      <td>10000</td>\n",
       "      <td>10474</td>\n",
       "      <td>10474</td>\n",
       "      <td>0.90</td>\n",
       "      <td>0.0</td>\n",
       "      <td>0.0</td>\n",
       "      <td>1.0</td>\n",
       "      <td>0.0</td>\n",
       "      <td>0.0</td>\n",
       "      <td>0.0</td>\n",
       "      <td>0.0</td>\n",
       "      <td>0.0</td>\n",
       "      <td>0.0</td>\n",
       "      <td>0</td>\n",
       "    </tr>\n",
       "    <tr>\n",
       "      <th>105</th>\n",
       "      <td>10007</td>\n",
       "      <td>10000</td>\n",
       "      <td>10360</td>\n",
       "      <td>10360</td>\n",
       "      <td>0.85</td>\n",
       "      <td>0.0</td>\n",
       "      <td>0.0</td>\n",
       "      <td>1.0</td>\n",
       "      <td>0.0</td>\n",
       "      <td>0.0</td>\n",
       "      <td>0.0</td>\n",
       "      <td>0.0</td>\n",
       "      <td>0.0</td>\n",
       "      <td>0.0</td>\n",
       "      <td>0</td>\n",
       "    </tr>\n",
       "    <tr>\n",
       "      <th>...</th>\n",
       "      <td>...</td>\n",
       "      <td>...</td>\n",
       "      <td>...</td>\n",
       "      <td>...</td>\n",
       "      <td>...</td>\n",
       "      <td>...</td>\n",
       "      <td>...</td>\n",
       "      <td>...</td>\n",
       "      <td>...</td>\n",
       "      <td>...</td>\n",
       "      <td>...</td>\n",
       "      <td>...</td>\n",
       "      <td>...</td>\n",
       "      <td>...</td>\n",
       "      <td>...</td>\n",
       "    </tr>\n",
       "    <tr>\n",
       "      <th>11975</th>\n",
       "      <td>50221</td>\n",
       "      <td>50000</td>\n",
       "      <td>50034</td>\n",
       "      <td>50034</td>\n",
       "      <td>0.85</td>\n",
       "      <td>0.0</td>\n",
       "      <td>0.0</td>\n",
       "      <td>1.0</td>\n",
       "      <td>0.0</td>\n",
       "      <td>0.6</td>\n",
       "      <td>0.0</td>\n",
       "      <td>0.0</td>\n",
       "      <td>0.0</td>\n",
       "      <td>1.0</td>\n",
       "      <td>0</td>\n",
       "    </tr>\n",
       "    <tr>\n",
       "      <th>11980</th>\n",
       "      <td>50222</td>\n",
       "      <td>50000</td>\n",
       "      <td>50244</td>\n",
       "      <td>50244</td>\n",
       "      <td>0.95</td>\n",
       "      <td>0.0</td>\n",
       "      <td>0.6</td>\n",
       "      <td>1.0</td>\n",
       "      <td>0.0</td>\n",
       "      <td>0.6</td>\n",
       "      <td>0.0</td>\n",
       "      <td>0.0</td>\n",
       "      <td>0.0</td>\n",
       "      <td>0.0</td>\n",
       "      <td>0</td>\n",
       "    </tr>\n",
       "    <tr>\n",
       "      <th>11993</th>\n",
       "      <td>50223</td>\n",
       "      <td>50000</td>\n",
       "      <td>50342</td>\n",
       "      <td>50342</td>\n",
       "      <td>0.95</td>\n",
       "      <td>0.4</td>\n",
       "      <td>0.0</td>\n",
       "      <td>0.0</td>\n",
       "      <td>1.0</td>\n",
       "      <td>0.0</td>\n",
       "      <td>1.0</td>\n",
       "      <td>0.0</td>\n",
       "      <td>0.0</td>\n",
       "      <td>1.0</td>\n",
       "      <td>0</td>\n",
       "    </tr>\n",
       "    <tr>\n",
       "      <th>12006</th>\n",
       "      <td>50224</td>\n",
       "      <td>50000</td>\n",
       "      <td>50050</td>\n",
       "      <td>50050</td>\n",
       "      <td>0.95</td>\n",
       "      <td>0.0</td>\n",
       "      <td>0.4</td>\n",
       "      <td>1.0</td>\n",
       "      <td>0.0</td>\n",
       "      <td>0.0</td>\n",
       "      <td>0.0</td>\n",
       "      <td>0.0</td>\n",
       "      <td>0.0</td>\n",
       "      <td>0.0</td>\n",
       "      <td>0</td>\n",
       "    </tr>\n",
       "    <tr>\n",
       "      <th>12033</th>\n",
       "      <td>50226</td>\n",
       "      <td>50000</td>\n",
       "      <td>50368</td>\n",
       "      <td>50368</td>\n",
       "      <td>0.95</td>\n",
       "      <td>0.0</td>\n",
       "      <td>0.0</td>\n",
       "      <td>1.0</td>\n",
       "      <td>0.0</td>\n",
       "      <td>0.0</td>\n",
       "      <td>0.0</td>\n",
       "      <td>0.0</td>\n",
       "      <td>0.0</td>\n",
       "      <td>1.0</td>\n",
       "      <td>0</td>\n",
       "    </tr>\n",
       "  </tbody>\n",
       "</table>\n",
       "<p>857 rows × 15 columns</p>\n",
       "</div>"
      ],
      "text/plain": [
       "       receipt_id  company_id  ...  PredictedTimeCloseMatch  Matched\n",
       "25          10001       10000  ...                      0.0        0\n",
       "27          10002       10000  ...                      0.0        0\n",
       "38          10003       10000  ...                      0.0        0\n",
       "73          10005       10000  ...                      0.0        0\n",
       "105         10007       10000  ...                      0.0        0\n",
       "...           ...         ...  ...                      ...      ...\n",
       "11975       50221       50000  ...                      1.0        0\n",
       "11980       50222       50000  ...                      0.0        0\n",
       "11993       50223       50000  ...                      1.0        0\n",
       "12006       50224       50000  ...                      0.0        0\n",
       "12033       50226       50000  ...                      1.0        0\n",
       "\n",
       "[857 rows x 15 columns]"
      ]
     },
     "execution_count": 72,
     "metadata": {},
     "output_type": "execute_result"
    }
   ],
   "source": [
    "DF[DF.Matched==0]"
   ]
  },
  {
   "cell_type": "code",
   "execution_count": 18,
   "metadata": {
    "id": "xyJWGGe19y51"
   },
   "outputs": [],
   "source": [
    "# Defining two models \n",
    "# - One for imbalanced dataset\n",
    "# - Another for SMOTE balanced dataset"
   ]
  },
  {
   "cell_type": "code",
   "execution_count": 19,
   "metadata": {
    "id": "m8Lqm3y1Ho9n"
   },
   "outputs": [],
   "source": [
    "#SMOTE BALANCED DATASET\n",
    "Model=CatBoostClassifier(iterations=60)"
   ]
  },
  {
   "cell_type": "code",
   "execution_count": 21,
   "metadata": {
    "id": "b6ov8EfFfv-w"
   },
   "outputs": [],
   "source": [
    "# Imbalanced dataset\n",
    "Model_Unbalanced=CatBoostClassifier(iterations=60)"
   ]
  },
  {
   "cell_type": "code",
   "execution_count": 22,
   "metadata": {
    "colab": {
     "base_uri": "https://localhost:8080/"
    },
    "id": "AQu_S2Bcf059",
    "outputId": "0d5b58f8-086b-434c-cabf-755acbe399cd"
   },
   "outputs": [
    {
     "name": "stdout",
     "output_type": "stream",
     "text": [
      "Learning rate set to 0.180428\n",
      "0:\tlearn: 0.5555299\ttest: 0.5546384\tbest: 0.5546384 (0)\ttotal: 49.7ms\tremaining: 2.93s\n",
      "1:\tlearn: 0.4593003\ttest: 0.4585700\tbest: 0.4585700 (1)\ttotal: 52.3ms\tremaining: 1.52s\n",
      "2:\tlearn: 0.3892043\ttest: 0.3883482\tbest: 0.3883482 (2)\ttotal: 53.9ms\tremaining: 1.02s\n",
      "3:\tlearn: 0.3336301\ttest: 0.3326242\tbest: 0.3326242 (3)\ttotal: 56.5ms\tremaining: 791ms\n",
      "4:\tlearn: 0.2905518\ttest: 0.2893331\tbest: 0.2893331 (4)\ttotal: 59ms\tremaining: 649ms\n",
      "5:\tlearn: 0.2598598\ttest: 0.2585173\tbest: 0.2585173 (5)\ttotal: 61.1ms\tremaining: 550ms\n",
      "6:\tlearn: 0.2308582\ttest: 0.2293861\tbest: 0.2293861 (6)\ttotal: 63.7ms\tremaining: 483ms\n",
      "7:\tlearn: 0.2080696\ttest: 0.2065218\tbest: 0.2065218 (7)\ttotal: 66.2ms\tremaining: 430ms\n",
      "8:\tlearn: 0.1898142\ttest: 0.1880958\tbest: 0.1880958 (8)\ttotal: 68.8ms\tremaining: 390ms\n",
      "9:\tlearn: 0.1743711\ttest: 0.1724707\tbest: 0.1724707 (9)\ttotal: 71.5ms\tremaining: 358ms\n",
      "10:\tlearn: 0.1616165\ttest: 0.1596062\tbest: 0.1596062 (10)\ttotal: 74.1ms\tremaining: 330ms\n",
      "11:\tlearn: 0.1514115\ttest: 0.1495551\tbest: 0.1495551 (11)\ttotal: 76.6ms\tremaining: 306ms\n",
      "12:\tlearn: 0.1427466\ttest: 0.1407749\tbest: 0.1407749 (12)\ttotal: 78.9ms\tremaining: 285ms\n",
      "13:\tlearn: 0.1357711\ttest: 0.1340787\tbest: 0.1340787 (13)\ttotal: 81.5ms\tremaining: 268ms\n",
      "14:\tlearn: 0.1297658\ttest: 0.1281720\tbest: 0.1281720 (14)\ttotal: 84ms\tremaining: 252ms\n",
      "15:\tlearn: 0.1246627\ttest: 0.1230300\tbest: 0.1230300 (15)\ttotal: 86.5ms\tremaining: 238ms\n",
      "16:\tlearn: 0.1206887\ttest: 0.1190603\tbest: 0.1190603 (16)\ttotal: 89ms\tremaining: 225ms\n",
      "17:\tlearn: 0.1172198\ttest: 0.1158809\tbest: 0.1158809 (17)\ttotal: 91.5ms\tremaining: 213ms\n",
      "18:\tlearn: 0.1145166\ttest: 0.1130326\tbest: 0.1130326 (18)\ttotal: 94ms\tremaining: 203ms\n",
      "19:\tlearn: 0.1118858\ttest: 0.1105705\tbest: 0.1105705 (19)\ttotal: 96.5ms\tremaining: 193ms\n",
      "20:\tlearn: 0.1098402\ttest: 0.1087160\tbest: 0.1087160 (20)\ttotal: 99.1ms\tremaining: 184ms\n",
      "21:\tlearn: 0.1080871\ttest: 0.1069071\tbest: 0.1069071 (21)\ttotal: 102ms\tremaining: 176ms\n",
      "22:\tlearn: 0.1073926\ttest: 0.1061483\tbest: 0.1061483 (22)\ttotal: 104ms\tremaining: 168ms\n",
      "23:\tlearn: 0.1066949\ttest: 0.1055936\tbest: 0.1055936 (23)\ttotal: 107ms\tremaining: 160ms\n",
      "24:\tlearn: 0.1052460\ttest: 0.1043277\tbest: 0.1043277 (24)\ttotal: 109ms\tremaining: 153ms\n",
      "25:\tlearn: 0.1040987\ttest: 0.1032604\tbest: 0.1032604 (25)\ttotal: 112ms\tremaining: 147ms\n",
      "26:\tlearn: 0.1032264\ttest: 0.1023530\tbest: 0.1023530 (26)\ttotal: 114ms\tremaining: 140ms\n",
      "27:\tlearn: 0.1030072\ttest: 0.1022966\tbest: 0.1022966 (27)\ttotal: 117ms\tremaining: 134ms\n",
      "28:\tlearn: 0.1021593\ttest: 0.1014141\tbest: 0.1014141 (28)\ttotal: 120ms\tremaining: 128ms\n",
      "29:\tlearn: 0.1019452\ttest: 0.1013559\tbest: 0.1013559 (29)\ttotal: 122ms\tremaining: 122ms\n",
      "30:\tlearn: 0.1012670\ttest: 0.1008308\tbest: 0.1008308 (30)\ttotal: 125ms\tremaining: 117ms\n",
      "31:\tlearn: 0.1011409\ttest: 0.1006193\tbest: 0.1006193 (31)\ttotal: 126ms\tremaining: 111ms\n",
      "32:\tlearn: 0.1005546\ttest: 0.0998866\tbest: 0.0998866 (32)\ttotal: 130ms\tremaining: 106ms\n",
      "33:\tlearn: 0.1000590\ttest: 0.0994549\tbest: 0.0994549 (33)\ttotal: 132ms\tremaining: 101ms\n",
      "34:\tlearn: 0.0994053\ttest: 0.0991480\tbest: 0.0991480 (34)\ttotal: 135ms\tremaining: 96.6ms\n",
      "35:\tlearn: 0.0989424\ttest: 0.0987946\tbest: 0.0987946 (35)\ttotal: 138ms\tremaining: 91.9ms\n",
      "36:\tlearn: 0.0985857\ttest: 0.0985338\tbest: 0.0985338 (36)\ttotal: 140ms\tremaining: 87.3ms\n",
      "37:\tlearn: 0.0983654\ttest: 0.0985450\tbest: 0.0985338 (36)\ttotal: 143ms\tremaining: 83ms\n",
      "38:\tlearn: 0.0980752\ttest: 0.0982790\tbest: 0.0982790 (38)\ttotal: 146ms\tremaining: 78.5ms\n",
      "39:\tlearn: 0.0979288\ttest: 0.0982542\tbest: 0.0982542 (39)\ttotal: 148ms\tremaining: 74.2ms\n",
      "40:\tlearn: 0.0978371\ttest: 0.0981967\tbest: 0.0981967 (40)\ttotal: 151ms\tremaining: 70ms\n",
      "41:\tlearn: 0.0975988\ttest: 0.0981484\tbest: 0.0981484 (41)\ttotal: 154ms\tremaining: 65.8ms\n",
      "42:\tlearn: 0.0974730\ttest: 0.0980913\tbest: 0.0980913 (42)\ttotal: 157ms\tremaining: 61.9ms\n",
      "43:\tlearn: 0.0973253\ttest: 0.0980683\tbest: 0.0980683 (43)\ttotal: 159ms\tremaining: 57.9ms\n",
      "44:\tlearn: 0.0968821\ttest: 0.0977647\tbest: 0.0977647 (44)\ttotal: 162ms\tremaining: 54ms\n",
      "45:\tlearn: 0.0965300\ttest: 0.0976141\tbest: 0.0976141 (45)\ttotal: 165ms\tremaining: 50.1ms\n",
      "46:\tlearn: 0.0964708\ttest: 0.0976469\tbest: 0.0976141 (45)\ttotal: 167ms\tremaining: 46.3ms\n",
      "47:\tlearn: 0.0963708\ttest: 0.0975752\tbest: 0.0975752 (47)\ttotal: 170ms\tremaining: 42.6ms\n",
      "48:\tlearn: 0.0962846\ttest: 0.0975907\tbest: 0.0975752 (47)\ttotal: 173ms\tremaining: 38.9ms\n",
      "49:\tlearn: 0.0961635\ttest: 0.0975247\tbest: 0.0975247 (49)\ttotal: 176ms\tremaining: 35.2ms\n",
      "50:\tlearn: 0.0959047\ttest: 0.0973138\tbest: 0.0973138 (50)\ttotal: 179ms\tremaining: 31.5ms\n",
      "51:\tlearn: 0.0958808\ttest: 0.0972523\tbest: 0.0972523 (51)\ttotal: 181ms\tremaining: 27.8ms\n",
      "52:\tlearn: 0.0957908\ttest: 0.0971845\tbest: 0.0971845 (52)\ttotal: 188ms\tremaining: 24.9ms\n",
      "53:\tlearn: 0.0956282\ttest: 0.0971071\tbest: 0.0971071 (53)\ttotal: 192ms\tremaining: 21.3ms\n",
      "54:\tlearn: 0.0954028\ttest: 0.0971743\tbest: 0.0971071 (53)\ttotal: 195ms\tremaining: 17.7ms\n",
      "55:\tlearn: 0.0953093\ttest: 0.0971111\tbest: 0.0971071 (53)\ttotal: 197ms\tremaining: 14.1ms\n",
      "56:\tlearn: 0.0951510\ttest: 0.0970567\tbest: 0.0970567 (56)\ttotal: 200ms\tremaining: 10.5ms\n",
      "57:\tlearn: 0.0949392\ttest: 0.0969338\tbest: 0.0969338 (57)\ttotal: 203ms\tremaining: 7ms\n",
      "58:\tlearn: 0.0946919\ttest: 0.0968091\tbest: 0.0968091 (58)\ttotal: 206ms\tremaining: 3.49ms\n",
      "59:\tlearn: 0.0945236\ttest: 0.0967209\tbest: 0.0967209 (59)\ttotal: 209ms\tremaining: 0us\n",
      "\n",
      "bestTest = 0.09672086247\n",
      "bestIteration = 59\n",
      "\n"
     ]
    },
    {
     "data": {
      "text/plain": [
       "<catboost.core.CatBoostClassifier at 0x7f0fbb825dd0>"
      ]
     },
     "execution_count": 22,
     "metadata": {},
     "output_type": "execute_result"
    }
   ],
   "source": [
    "Model_Unbalanced.fit(X_train,y_train,eval_set=(X_test,y_test))"
   ]
  },
  {
   "cell_type": "code",
   "execution_count": 23,
   "metadata": {
    "colab": {
     "base_uri": "https://localhost:8080/"
    },
    "id": "kDawl4L4HpAX",
    "outputId": "7a8da3a5-eee2-4b3d-a2a9-4244c8c5309c"
   },
   "outputs": [
    {
     "name": "stdout",
     "output_type": "stream",
     "text": [
      "Learning rate set to 0.210264\n",
      "0:\tlearn: 0.5540464\ttest: 0.5551345\tbest: 0.5551345 (0)\ttotal: 8.33ms\tremaining: 492ms\n",
      "1:\tlearn: 0.4571091\ttest: 0.4601194\tbest: 0.4601194 (1)\ttotal: 14.8ms\tremaining: 429ms\n",
      "2:\tlearn: 0.3868017\ttest: 0.3916478\tbest: 0.3916478 (2)\ttotal: 21.6ms\tremaining: 411ms\n",
      "3:\tlearn: 0.3366204\ttest: 0.3434771\tbest: 0.3434771 (3)\ttotal: 28.2ms\tremaining: 395ms\n",
      "4:\tlearn: 0.2975903\ttest: 0.3079286\tbest: 0.3079286 (4)\ttotal: 34.9ms\tremaining: 384ms\n",
      "5:\tlearn: 0.2655505\ttest: 0.2790429\tbest: 0.2790429 (5)\ttotal: 46ms\tremaining: 414ms\n",
      "6:\tlearn: 0.2429691\ttest: 0.2593749\tbest: 0.2593749 (6)\ttotal: 52.1ms\tremaining: 395ms\n",
      "7:\tlearn: 0.2254232\ttest: 0.2446833\tbest: 0.2446833 (7)\ttotal: 58.4ms\tremaining: 380ms\n",
      "8:\tlearn: 0.2088473\ttest: 0.2291709\tbest: 0.2291709 (8)\ttotal: 64.7ms\tremaining: 366ms\n",
      "9:\tlearn: 0.1941290\ttest: 0.2139957\tbest: 0.2139957 (9)\ttotal: 70.8ms\tremaining: 354ms\n",
      "10:\tlearn: 0.1842377\ttest: 0.2045556\tbest: 0.2045556 (10)\ttotal: 77ms\tremaining: 343ms\n",
      "11:\tlearn: 0.1751633\ttest: 0.1955066\tbest: 0.1955066 (11)\ttotal: 83.3ms\tremaining: 333ms\n",
      "12:\tlearn: 0.1671755\ttest: 0.1885675\tbest: 0.1885675 (12)\ttotal: 89.5ms\tremaining: 324ms\n",
      "13:\tlearn: 0.1605301\ttest: 0.1828768\tbest: 0.1828768 (13)\ttotal: 95.8ms\tremaining: 315ms\n",
      "14:\tlearn: 0.1548460\ttest: 0.1756821\tbest: 0.1756821 (14)\ttotal: 102ms\tremaining: 307ms\n",
      "15:\tlearn: 0.1503949\ttest: 0.1723682\tbest: 0.1723682 (15)\ttotal: 109ms\tremaining: 298ms\n",
      "16:\tlearn: 0.1462961\ttest: 0.1696563\tbest: 0.1696563 (16)\ttotal: 115ms\tremaining: 291ms\n",
      "17:\tlearn: 0.1422950\ttest: 0.1653927\tbest: 0.1653927 (17)\ttotal: 122ms\tremaining: 286ms\n",
      "18:\tlearn: 0.1385680\ttest: 0.1610384\tbest: 0.1610384 (18)\ttotal: 129ms\tremaining: 278ms\n",
      "19:\tlearn: 0.1358829\ttest: 0.1574518\tbest: 0.1574518 (19)\ttotal: 135ms\tremaining: 270ms\n",
      "20:\tlearn: 0.1335646\ttest: 0.1563253\tbest: 0.1563253 (20)\ttotal: 141ms\tremaining: 263ms\n",
      "21:\tlearn: 0.1307807\ttest: 0.1552189\tbest: 0.1552189 (21)\ttotal: 148ms\tremaining: 255ms\n",
      "22:\tlearn: 0.1294395\ttest: 0.1546688\tbest: 0.1546688 (22)\ttotal: 154ms\tremaining: 248ms\n",
      "23:\tlearn: 0.1282606\ttest: 0.1540368\tbest: 0.1540368 (23)\ttotal: 161ms\tremaining: 241ms\n",
      "24:\tlearn: 0.1270338\ttest: 0.1529197\tbest: 0.1529197 (24)\ttotal: 167ms\tremaining: 234ms\n",
      "25:\tlearn: 0.1253672\ttest: 0.1514418\tbest: 0.1514418 (25)\ttotal: 173ms\tremaining: 226ms\n",
      "26:\tlearn: 0.1242808\ttest: 0.1507930\tbest: 0.1507930 (26)\ttotal: 179ms\tremaining: 219ms\n",
      "27:\tlearn: 0.1220101\ttest: 0.1480817\tbest: 0.1480817 (27)\ttotal: 188ms\tremaining: 215ms\n",
      "28:\tlearn: 0.1208777\ttest: 0.1473011\tbest: 0.1473011 (28)\ttotal: 203ms\tremaining: 217ms\n",
      "29:\tlearn: 0.1192008\ttest: 0.1457799\tbest: 0.1457799 (29)\ttotal: 209ms\tremaining: 209ms\n",
      "30:\tlearn: 0.1180582\ttest: 0.1446146\tbest: 0.1446146 (30)\ttotal: 215ms\tremaining: 201ms\n",
      "31:\tlearn: 0.1167224\ttest: 0.1438736\tbest: 0.1438736 (31)\ttotal: 221ms\tremaining: 193ms\n",
      "32:\tlearn: 0.1160130\ttest: 0.1431253\tbest: 0.1431253 (32)\ttotal: 227ms\tremaining: 186ms\n",
      "33:\tlearn: 0.1149625\ttest: 0.1424543\tbest: 0.1424543 (33)\ttotal: 233ms\tremaining: 178ms\n",
      "34:\tlearn: 0.1138296\ttest: 0.1415382\tbest: 0.1415382 (34)\ttotal: 239ms\tremaining: 171ms\n",
      "35:\tlearn: 0.1132540\ttest: 0.1414977\tbest: 0.1414977 (35)\ttotal: 245ms\tremaining: 164ms\n",
      "36:\tlearn: 0.1126195\ttest: 0.1411201\tbest: 0.1411201 (36)\ttotal: 251ms\tremaining: 156ms\n",
      "37:\tlearn: 0.1118396\ttest: 0.1409865\tbest: 0.1409865 (37)\ttotal: 257ms\tremaining: 149ms\n",
      "38:\tlearn: 0.1106172\ttest: 0.1398509\tbest: 0.1398509 (38)\ttotal: 263ms\tremaining: 142ms\n",
      "39:\tlearn: 0.1102302\ttest: 0.1399269\tbest: 0.1398509 (38)\ttotal: 269ms\tremaining: 135ms\n",
      "40:\tlearn: 0.1092528\ttest: 0.1391431\tbest: 0.1391431 (40)\ttotal: 275ms\tremaining: 128ms\n",
      "41:\tlearn: 0.1087334\ttest: 0.1390023\tbest: 0.1390023 (41)\ttotal: 281ms\tremaining: 121ms\n",
      "42:\tlearn: 0.1079230\ttest: 0.1385089\tbest: 0.1385089 (42)\ttotal: 287ms\tremaining: 114ms\n",
      "43:\tlearn: 0.1068617\ttest: 0.1373805\tbest: 0.1373805 (43)\ttotal: 293ms\tremaining: 107ms\n",
      "44:\tlearn: 0.1066363\ttest: 0.1371501\tbest: 0.1371501 (44)\ttotal: 299ms\tremaining: 99.7ms\n",
      "45:\tlearn: 0.1063308\ttest: 0.1369792\tbest: 0.1369792 (45)\ttotal: 305ms\tremaining: 92.8ms\n",
      "46:\tlearn: 0.1051977\ttest: 0.1358524\tbest: 0.1358524 (46)\ttotal: 311ms\tremaining: 86.1ms\n",
      "47:\tlearn: 0.1046244\ttest: 0.1357421\tbest: 0.1357421 (47)\ttotal: 317ms\tremaining: 79.3ms\n",
      "48:\tlearn: 0.1038762\ttest: 0.1348606\tbest: 0.1348606 (48)\ttotal: 323ms\tremaining: 72.5ms\n",
      "49:\tlearn: 0.1031086\ttest: 0.1337240\tbest: 0.1337240 (49)\ttotal: 329ms\tremaining: 65.8ms\n",
      "50:\tlearn: 0.1027422\ttest: 0.1333599\tbest: 0.1333599 (50)\ttotal: 335ms\tremaining: 59.1ms\n",
      "51:\tlearn: 0.1023611\ttest: 0.1334682\tbest: 0.1333599 (50)\ttotal: 341ms\tremaining: 52.5ms\n",
      "52:\tlearn: 0.1014975\ttest: 0.1329001\tbest: 0.1329001 (52)\ttotal: 348ms\tremaining: 46ms\n",
      "53:\tlearn: 0.1008431\ttest: 0.1322796\tbest: 0.1322796 (53)\ttotal: 355ms\tremaining: 39.4ms\n",
      "54:\tlearn: 0.0998432\ttest: 0.1313585\tbest: 0.1313585 (54)\ttotal: 361ms\tremaining: 32.8ms\n",
      "55:\tlearn: 0.0994752\ttest: 0.1311825\tbest: 0.1311825 (55)\ttotal: 367ms\tremaining: 26.2ms\n",
      "56:\tlearn: 0.0983324\ttest: 0.1298000\tbest: 0.1298000 (56)\ttotal: 374ms\tremaining: 19.7ms\n",
      "57:\tlearn: 0.0977533\ttest: 0.1292221\tbest: 0.1292221 (57)\ttotal: 380ms\tremaining: 13.1ms\n",
      "58:\tlearn: 0.0974576\ttest: 0.1292967\tbest: 0.1292221 (57)\ttotal: 387ms\tremaining: 6.55ms\n",
      "59:\tlearn: 0.0965078\ttest: 0.1292659\tbest: 0.1292221 (57)\ttotal: 395ms\tremaining: 0us\n",
      "\n",
      "bestTest = 0.1292221218\n",
      "bestIteration = 57\n",
      "\n",
      "Shrink model to first 58 iterations.\n"
     ]
    },
    {
     "data": {
      "text/plain": [
       "<catboost.core.CatBoostClassifier at 0x7f0fbb820250>"
      ]
     },
     "execution_count": 23,
     "metadata": {},
     "output_type": "execute_result"
    }
   ],
   "source": [
    "Model.fit(X_train_res,y_train_res,eval_set=(X_test,y_test))"
   ]
  },
  {
   "cell_type": "code",
   "execution_count": 24,
   "metadata": {
    "id": "EmvUOpmOHpHu"
   },
   "outputs": [],
   "source": [
    "Predictions_Prob=Model.predict_proba(X_test)"
   ]
  },
  {
   "cell_type": "code",
   "execution_count": 25,
   "metadata": {
    "id": "lp5tf6Yt7krI"
   },
   "outputs": [],
   "source": [
    "Predictions=Model.predict(X_test)"
   ]
  },
  {
   "cell_type": "code",
   "execution_count": 26,
   "metadata": {
    "id": "cBHX1E6njL8N"
   },
   "outputs": [],
   "source": [
    "Prediction_Probability=[x[0] for x in Predictions_Prob]"
   ]
  },
  {
   "cell_type": "code",
   "execution_count": 27,
   "metadata": {
    "id": "BO6Zpmx5vyn9"
   },
   "outputs": [],
   "source": [
    "Final_TEST=X_test.copy()"
   ]
  },
  {
   "cell_type": "code",
   "execution_count": 28,
   "metadata": {
    "id": "g-KAOJeHw_rK"
   },
   "outputs": [],
   "source": [
    "Final_TEST[\"Prediction_Probability\"]=Prediction_Probability"
   ]
  },
  {
   "cell_type": "code",
   "execution_count": 29,
   "metadata": {
    "colab": {
     "base_uri": "https://localhost:8080/",
     "height": 222
    },
    "id": "CNHFkvXhxfk4",
    "outputId": "abade82b-adbd-4fc0-d490-e0ed95669beb"
   },
   "outputs": [
    {
     "data": {
      "text/html": [
       "<div>\n",
       "<style scoped>\n",
       "    .dataframe tbody tr th:only-of-type {\n",
       "        vertical-align: middle;\n",
       "    }\n",
       "\n",
       "    .dataframe tbody tr th {\n",
       "        vertical-align: top;\n",
       "    }\n",
       "\n",
       "    .dataframe thead th {\n",
       "        text-align: right;\n",
       "    }\n",
       "</style>\n",
       "<table border=\"1\" class=\"dataframe\">\n",
       "  <thead>\n",
       "    <tr style=\"text-align: right;\">\n",
       "      <th></th>\n",
       "      <th>receipt_id</th>\n",
       "      <th>company_id</th>\n",
       "      <th>matched_transaction_id</th>\n",
       "      <th>feature_transaction_id</th>\n",
       "      <th>DateMappingMatch</th>\n",
       "      <th>AmountMappingMatch</th>\n",
       "      <th>DescriptionMatch</th>\n",
       "      <th>DifferentPredictedTime</th>\n",
       "      <th>TimeMappingMatch</th>\n",
       "      <th>PredictedNameMatch</th>\n",
       "      <th>ShortNameMatch</th>\n",
       "      <th>DifferentPredictedDate</th>\n",
       "      <th>PredictedAmountMatch</th>\n",
       "      <th>PredictedTimeCloseMatch</th>\n",
       "      <th>Prediction_Probability</th>\n",
       "    </tr>\n",
       "  </thead>\n",
       "  <tbody>\n",
       "    <tr>\n",
       "      <th>11838</th>\n",
       "      <td>50195</td>\n",
       "      <td>50000</td>\n",
       "      <td>50128</td>\n",
       "      <td>50024</td>\n",
       "      <td>0.00</td>\n",
       "      <td>0.0</td>\n",
       "      <td>0.0</td>\n",
       "      <td>1.0</td>\n",
       "      <td>0.0</td>\n",
       "      <td>0.0</td>\n",
       "      <td>0.0</td>\n",
       "      <td>1.0</td>\n",
       "      <td>0.0</td>\n",
       "      <td>0.0</td>\n",
       "      <td>0.001212</td>\n",
       "    </tr>\n",
       "    <tr>\n",
       "      <th>10476</th>\n",
       "      <td>40241</td>\n",
       "      <td>40000</td>\n",
       "      <td>40380</td>\n",
       "      <td>40380</td>\n",
       "      <td>0.95</td>\n",
       "      <td>0.0</td>\n",
       "      <td>0.0</td>\n",
       "      <td>1.0</td>\n",
       "      <td>0.0</td>\n",
       "      <td>0.0</td>\n",
       "      <td>1.0</td>\n",
       "      <td>0.0</td>\n",
       "      <td>0.0</td>\n",
       "      <td>0.0</td>\n",
       "      <td>0.916839</td>\n",
       "    </tr>\n",
       "    <tr>\n",
       "      <th>6208</th>\n",
       "      <td>30121</td>\n",
       "      <td>30000</td>\n",
       "      <td>31320</td>\n",
       "      <td>31321</td>\n",
       "      <td>0.95</td>\n",
       "      <td>0.0</td>\n",
       "      <td>0.0</td>\n",
       "      <td>1.0</td>\n",
       "      <td>0.0</td>\n",
       "      <td>0.0</td>\n",
       "      <td>0.0</td>\n",
       "      <td>0.0</td>\n",
       "      <td>0.0</td>\n",
       "      <td>0.0</td>\n",
       "      <td>0.283537</td>\n",
       "    </tr>\n",
       "    <tr>\n",
       "      <th>2613</th>\n",
       "      <td>20025</td>\n",
       "      <td>20000</td>\n",
       "      <td>20196</td>\n",
       "      <td>20016</td>\n",
       "      <td>0.00</td>\n",
       "      <td>0.0</td>\n",
       "      <td>0.0</td>\n",
       "      <td>1.0</td>\n",
       "      <td>0.0</td>\n",
       "      <td>0.0</td>\n",
       "      <td>0.0</td>\n",
       "      <td>1.0</td>\n",
       "      <td>0.0</td>\n",
       "      <td>0.0</td>\n",
       "      <td>0.001030</td>\n",
       "    </tr>\n",
       "    <tr>\n",
       "      <th>7475</th>\n",
       "      <td>30221</td>\n",
       "      <td>30000</td>\n",
       "      <td>30842</td>\n",
       "      <td>30831</td>\n",
       "      <td>0.00</td>\n",
       "      <td>0.0</td>\n",
       "      <td>0.0</td>\n",
       "      <td>1.0</td>\n",
       "      <td>0.0</td>\n",
       "      <td>0.8</td>\n",
       "      <td>0.0</td>\n",
       "      <td>1.0</td>\n",
       "      <td>0.0</td>\n",
       "      <td>0.0</td>\n",
       "      <td>0.004572</td>\n",
       "    </tr>\n",
       "  </tbody>\n",
       "</table>\n",
       "</div>"
      ],
      "text/plain": [
       "       receipt_id  company_id  ...  PredictedTimeCloseMatch  Prediction_Probability\n",
       "11838       50195       50000  ...                      0.0                0.001212\n",
       "10476       40241       40000  ...                      0.0                0.916839\n",
       "6208        30121       30000  ...                      0.0                0.283537\n",
       "2613        20025       20000  ...                      0.0                0.001030\n",
       "7475        30221       30000  ...                      0.0                0.004572\n",
       "\n",
       "[5 rows x 15 columns]"
      ]
     },
     "execution_count": 29,
     "metadata": {},
     "output_type": "execute_result"
    }
   ],
   "source": [
    "Final_TEST.head(5)"
   ]
  },
  {
   "cell_type": "code",
   "execution_count": 30,
   "metadata": {
    "id": "G8NU7pA3f7xV"
   },
   "outputs": [],
   "source": [
    "Predictions_Unbalanced=Model_Unbalanced.predict(X_test)"
   ]
  },
  {
   "cell_type": "code",
   "execution_count": 31,
   "metadata": {
    "id": "6Q6Eb0J0-YSl"
   },
   "outputs": [],
   "source": [
    "# F1 score and confusion matrix to evaluate the model performance"
   ]
  },
  {
   "cell_type": "code",
   "execution_count": 32,
   "metadata": {
    "id": "dDxXWLSbI5Y-"
   },
   "outputs": [],
   "source": [
    "from sklearn.metrics import confusion_matrix"
   ]
  },
  {
   "cell_type": "code",
   "execution_count": 33,
   "metadata": {
    "id": "8Lt9S5YZJH3M"
   },
   "outputs": [],
   "source": [
    "cf_matrix=confusion_matrix(Predictions, y_test)  "
   ]
  },
  {
   "cell_type": "code",
   "execution_count": 34,
   "metadata": {
    "colab": {
     "base_uri": "https://localhost:8080/"
    },
    "id": "4iD6mSrI7Jk_",
    "outputId": "d836b2fa-a7e4-44b3-b75a-4574b8fffd18"
   },
   "outputs": [
    {
     "data": {
      "text/plain": [
       "array([[ 209,  147],\n",
       "       [  76, 3540]])"
      ]
     },
     "execution_count": 34,
     "metadata": {},
     "output_type": "execute_result"
    }
   ],
   "source": [
    "cf_matrix"
   ]
  },
  {
   "cell_type": "code",
   "execution_count": 35,
   "metadata": {
    "colab": {
     "base_uri": "https://localhost:8080/",
     "height": 282
    },
    "id": "s5C8ZFISJY6O",
    "outputId": "bac8d206-3f45-4d7f-c3c1-20a05eb7170d"
   },
   "outputs": [
    {
     "data": {
      "text/plain": [
       "<matplotlib.axes._subplots.AxesSubplot at 0x7f0fba8eb910>"
      ]
     },
     "execution_count": 35,
     "metadata": {},
     "output_type": "execute_result"
    },
    {
     "data": {
      "image/png": "[encoded data removed]",
      "text/plain": [
       "<Figure size 432x288 with 2 Axes>"
      ]
     },
     "metadata": {
      "needs_background": "light"
     },
     "output_type": "display_data"
    }
   ],
   "source": [
    "import seaborn as sns\n",
    "sns.heatmap(cf_matrix/np.sum(cf_matrix), annot=True, \n",
    "            fmt='.2%', cmap='Blues')"
   ]
  },
  {
   "cell_type": "code",
   "execution_count": 44,
   "metadata": {
    "colab": {
     "base_uri": "https://localhost:8080/"
    },
    "id": "clKLxSsOdwb5",
    "outputId": "a1cae909-58ca-49e0-80f5-92600879d386"
   },
   "outputs": [
    {
     "name": "stdout",
     "output_type": "stream",
     "text": [
      "precision: [0.58707865 0.9789823 ]\n",
      "recall: [0.73333333 0.96013019]\n",
      "fscore: [0.65210608 0.9694646 ]\n",
      "support: [ 285 3687]\n"
     ]
    }
   ],
   "source": [
    "from sklearn.metrics import precision_recall_fscore_support as score\n",
    "\n",
    "\n",
    "\n",
    "precision, recall, fscore, support = score(y_test, Predictions)\n",
    "\n",
    "print('precision: {}'.format(precision))\n",
    "print('recall: {}'.format(recall))\n",
    "print('fscore: {}'.format(fscore))\n",
    "print('support: {}'.format(support))"
   ]
  },
  {
   "cell_type": "code",
   "execution_count": 38,
   "metadata": {
    "id": "q7uQRm_r-usB"
   },
   "outputs": [],
   "source": [
    "# Evaluation for data imbalance model"
   ]
  },
  {
   "cell_type": "code",
   "execution_count": 39,
   "metadata": {
    "id": "aJAOKkFngHIY"
   },
   "outputs": [],
   "source": [
    "cf_matrix=confusion_matrix(Predictions_Unbalanced, y_test)"
   ]
  },
  {
   "cell_type": "code",
   "execution_count": 40,
   "metadata": {
    "colab": {
     "base_uri": "https://localhost:8080/"
    },
    "id": "sZvxB8377Vha",
    "outputId": "b12b8c69-fd6a-47c5-9429-b45cf3037702"
   },
   "outputs": [
    {
     "data": {
      "text/plain": [
       "array([[ 172,   31],\n",
       "       [ 113, 3656]])"
      ]
     },
     "execution_count": 40,
     "metadata": {},
     "output_type": "execute_result"
    }
   ],
   "source": [
    "cf_matrix"
   ]
  },
  {
   "cell_type": "code",
   "execution_count": 41,
   "metadata": {
    "colab": {
     "base_uri": "https://localhost:8080/",
     "height": 282
    },
    "id": "Qdo1tkItgHQX",
    "outputId": "9e7dbc52-5788-41f3-c9bb-547a9992b6aa"
   },
   "outputs": [
    {
     "data": {
      "text/plain": [
       "<matplotlib.axes._subplots.AxesSubplot at 0x7f0fba16f390>"
      ]
     },
     "execution_count": 41,
     "metadata": {},
     "output_type": "execute_result"
    },
    {
     "data": {
      "image/png": "[encoded data removed]",
      "text/plain": [
       "<Figure size 432x288 with 2 Axes>"
      ]
     },
     "metadata": {
      "needs_background": "light"
     },
     "output_type": "display_data"
    }
   ],
   "source": [
    "import seaborn as sns\n",
    "sns.heatmap(cf_matrix/np.sum(cf_matrix), annot=True, \n",
    "            fmt='.2%', cmap='Blues')"
   ]
  },
  {
   "cell_type": "code",
   "execution_count": 43,
   "metadata": {
    "colab": {
     "base_uri": "https://localhost:8080/"
    },
    "id": "rbG58qDU-5FX",
    "outputId": "07d1a14e-80fd-4102-b678-493b6f0ad10e"
   },
   "outputs": [
    {
     "name": "stdout",
     "output_type": "stream",
     "text": [
      "precision: [0.84729064 0.97001857]\n",
      "recall: [0.60350877 0.99159208]\n",
      "fscore: [0.70491803 0.9806867 ]\n",
      "support: [ 285 3687]\n"
     ]
    }
   ],
   "source": [
    "\n",
    "precision, recall, fscore, support = score(y_test, Predictions_Unbalanced)\n",
    "\n",
    "print('precision: {}'.format(precision))\n",
    "print('recall: {}'.format(recall))\n",
    "print('fscore: {}'.format(fscore))\n",
    "print('support: {}'.format(support))"
   ]
  },
  {
   "cell_type": "code",
   "execution_count": null,
   "metadata": {
    "id": "adcD_Z9w_PKC"
   },
   "outputs": [],
   "source": [
    "# We define a function which can attach itself to a model and then make predictions on a dataframe passed to it\n",
    "# This function would then sort the dataset on \"matched transaction id\" and then return probabilities of it being a correct match"
   ]
  },
  {
   "cell_type": "code",
   "execution_count": 45,
   "metadata": {
    "id": "fQOLaRXj_ouw"
   },
   "outputs": [],
   "source": [
    "# Here we attach a model which would be used at the user-defined function below\n",
    "MODEL= Model_Unbalanced"
   ]
  },
  {
   "cell_type": "code",
   "execution_count": 48,
   "metadata": {
    "id": "jbyNdxswxuIM"
   },
   "outputs": [],
   "source": [
    "def Predict_Probability(data):\n",
    "  Predictions_new=MODEL.predict_proba(data)\n",
    "  Prediction_Probability=[x[0] for x in Predictions_new]\n",
    "  data[\"Prediction_Probabilities\"]=Prediction_Probability\n",
    "  data=data.sort_values(by=['matched_transaction_id','Prediction_Probabilities'], ascending=[True,False])\n",
    "\n",
    "  #print(Predictions_new)\n",
    "  return data"
   ]
  },
  {
   "cell_type": "code",
   "execution_count": 51,
   "metadata": {
    "id": "1l9zZdTMh8yU"
   },
   "outputs": [],
   "source": [
    "Simulated_data=X_test.iloc[10:15,:]"
   ]
  },
  {
   "cell_type": "code",
   "execution_count": 49,
   "metadata": {
    "id": "YBxAagZUiX4Z"
   },
   "outputs": [],
   "source": []
  },
  {
   "cell_type": "code",
   "execution_count": 52,
   "metadata": {
    "colab": {
     "base_uri": "https://localhost:8080/"
    },
    "id": "IujZqQUdg8Hk",
    "outputId": "fcdba8e8-da71-4c1d-ea74-6020ff663fab"
   },
   "outputs": [
    {
     "name": "stderr",
     "output_type": "stream",
     "text": [
      "/usr/local/lib/python3.7/dist-packages/ipykernel_launcher.py:4: SettingWithCopyWarning: \n",
      "A value is trying to be set on a copy of a slice from a DataFrame.\n",
      "Try using .loc[row_indexer,col_indexer] = value instead\n",
      "\n",
      "See the caveats in the documentation: https://pandas.pydata.org/pandas-docs/stable/user_guide/indexing.html#returning-a-view-versus-a-copy\n",
      "  after removing the cwd from sys.path.\n"
     ]
    }
   ],
   "source": [
    "Final_dataframe=Predict_Probability(Simulated_data)"
   ]
  },
  {
   "cell_type": "code",
   "execution_count": 53,
   "metadata": {
    "colab": {
     "base_uri": "https://localhost:8080/",
     "height": 222
    },
    "id": "0zCTpocPhEu-",
    "outputId": "37550e8e-095f-4ac5-82c1-ae7a6461f363"
   },
   "outputs": [
    {
     "data": {
      "text/html": [
       "<div>\n",
       "<style scoped>\n",
       "    .dataframe tbody tr th:only-of-type {\n",
       "        vertical-align: middle;\n",
       "    }\n",
       "\n",
       "    .dataframe tbody tr th {\n",
       "        vertical-align: top;\n",
       "    }\n",
       "\n",
       "    .dataframe thead th {\n",
       "        text-align: right;\n",
       "    }\n",
       "</style>\n",
       "<table border=\"1\" class=\"dataframe\">\n",
       "  <thead>\n",
       "    <tr style=\"text-align: right;\">\n",
       "      <th></th>\n",
       "      <th>receipt_id</th>\n",
       "      <th>company_id</th>\n",
       "      <th>matched_transaction_id</th>\n",
       "      <th>feature_transaction_id</th>\n",
       "      <th>DateMappingMatch</th>\n",
       "      <th>AmountMappingMatch</th>\n",
       "      <th>DescriptionMatch</th>\n",
       "      <th>DifferentPredictedTime</th>\n",
       "      <th>TimeMappingMatch</th>\n",
       "      <th>PredictedNameMatch</th>\n",
       "      <th>ShortNameMatch</th>\n",
       "      <th>DifferentPredictedDate</th>\n",
       "      <th>PredictedAmountMatch</th>\n",
       "      <th>PredictedTimeCloseMatch</th>\n",
       "      <th>Prediction_Probabilities</th>\n",
       "    </tr>\n",
       "  </thead>\n",
       "  <tbody>\n",
       "    <tr>\n",
       "      <th>2128</th>\n",
       "      <td>10196</td>\n",
       "      <td>10000</td>\n",
       "      <td>10462</td>\n",
       "      <td>10462</td>\n",
       "      <td>0.95</td>\n",
       "      <td>0.0</td>\n",
       "      <td>0.8</td>\n",
       "      <td>1.0</td>\n",
       "      <td>0.0</td>\n",
       "      <td>0.4</td>\n",
       "      <td>0.0</td>\n",
       "      <td>0.0</td>\n",
       "      <td>0.0</td>\n",
       "      <td>1.0</td>\n",
       "      <td>0.848149</td>\n",
       "    </tr>\n",
       "    <tr>\n",
       "      <th>218</th>\n",
       "      <td>10016</td>\n",
       "      <td>10000</td>\n",
       "      <td>10583</td>\n",
       "      <td>10008</td>\n",
       "      <td>0.00</td>\n",
       "      <td>0.0</td>\n",
       "      <td>0.0</td>\n",
       "      <td>1.0</td>\n",
       "      <td>0.0</td>\n",
       "      <td>0.0</td>\n",
       "      <td>0.0</td>\n",
       "      <td>1.0</td>\n",
       "      <td>0.0</td>\n",
       "      <td>0.0</td>\n",
       "      <td>0.001469</td>\n",
       "    </tr>\n",
       "    <tr>\n",
       "      <th>4030</th>\n",
       "      <td>20159</td>\n",
       "      <td>20000</td>\n",
       "      <td>20206</td>\n",
       "      <td>20001</td>\n",
       "      <td>0.00</td>\n",
       "      <td>0.0</td>\n",
       "      <td>0.0</td>\n",
       "      <td>1.0</td>\n",
       "      <td>0.0</td>\n",
       "      <td>0.0</td>\n",
       "      <td>0.0</td>\n",
       "      <td>1.0</td>\n",
       "      <td>0.0</td>\n",
       "      <td>0.0</td>\n",
       "      <td>0.001358</td>\n",
       "    </tr>\n",
       "    <tr>\n",
       "      <th>8687</th>\n",
       "      <td>30310</td>\n",
       "      <td>30000</td>\n",
       "      <td>30406</td>\n",
       "      <td>30402</td>\n",
       "      <td>0.00</td>\n",
       "      <td>0.0</td>\n",
       "      <td>0.0</td>\n",
       "      <td>1.0</td>\n",
       "      <td>0.0</td>\n",
       "      <td>0.0</td>\n",
       "      <td>0.0</td>\n",
       "      <td>1.0</td>\n",
       "      <td>0.0</td>\n",
       "      <td>0.0</td>\n",
       "      <td>0.001693</td>\n",
       "    </tr>\n",
       "    <tr>\n",
       "      <th>9008</th>\n",
       "      <td>30340</td>\n",
       "      <td>30000</td>\n",
       "      <td>31277</td>\n",
       "      <td>31270</td>\n",
       "      <td>0.00</td>\n",
       "      <td>0.4</td>\n",
       "      <td>0.0</td>\n",
       "      <td>1.0</td>\n",
       "      <td>0.0</td>\n",
       "      <td>0.0</td>\n",
       "      <td>0.0</td>\n",
       "      <td>1.0</td>\n",
       "      <td>0.0</td>\n",
       "      <td>1.0</td>\n",
       "      <td>0.004064</td>\n",
       "    </tr>\n",
       "  </tbody>\n",
       "</table>\n",
       "</div>"
      ],
      "text/plain": [
       "      receipt_id  company_id  ...  PredictedTimeCloseMatch  Prediction_Probabilities\n",
       "2128       10196       10000  ...                      1.0                  0.848149\n",
       "218        10016       10000  ...                      0.0                  0.001469\n",
       "4030       20159       20000  ...                      0.0                  0.001358\n",
       "8687       30310       30000  ...                      0.0                  0.001693\n",
       "9008       30340       30000  ...                      1.0                  0.004064\n",
       "\n",
       "[5 rows x 15 columns]"
      ]
     },
     "execution_count": 53,
     "metadata": {},
     "output_type": "execute_result"
    }
   ],
   "source": [
    "Final_dataframe"
   ]
  },
  {
   "cell_type": "code",
   "execution_count": null,
   "metadata": {
    "id": "6GK68iv4A0i2"
   },
   "outputs": [],
   "source": []
  }
 ],
 "metadata": {
  "colab": {
   "name": "Analysis.ipynb",
   "provenance": []
  },
  "kernelspec": {
   "display_name": "Python 3",
   "language": "python",
   "name": "python3"
  },
  "language_info": {
   "codemirror_mode": {
    "name": "ipython",
    "version": 3
   },
   "file_extension": ".py",
   "mimetype": "text/x-python",
   "name": "python",
   "nbconvert_exporter": "python",
   "pygments_lexer": "ipython3",
   "version": "3.8.5"
  }
 },
 "nbformat": 4,
 "nbformat_minor": 1
}
